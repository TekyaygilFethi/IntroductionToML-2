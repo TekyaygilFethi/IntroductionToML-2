{
  "nbformat": 4,
  "nbformat_minor": 0,
  "metadata": {
    "colab": {
      "name": "Başarabilirsin: Makine Öğrenmesine Giriş - 2.ipynb",
      "provenance": [],
      "collapsed_sections": [],
      "authorship_tag": "ABX9TyNZbvTzSs15QiqVC0kRrRf6",
      "include_colab_link": true
    },
    "kernelspec": {
      "name": "python3",
      "display_name": "Python 3"
    }
  },
  "cells": [
    {
      "cell_type": "markdown",
      "metadata": {
        "id": "view-in-github",
        "colab_type": "text"
      },
      "source": [
        "<a href=\"https://colab.research.google.com/github/TekyaygilFethi/IntroductionToML-2/blob/master/Ba%C5%9Farabilirsin_Makine_%C3%96%C4%9Frenmesine_Giri%C5%9F_2.ipynb\" target=\"_parent\"><img src=\"https://colab.research.google.com/assets/colab-badge.svg\" alt=\"Open In Colab\"/></a>"
      ]
    },
    {
      "cell_type": "markdown",
      "metadata": {
        "id": "r53Oy7IgMXmP",
        "colab_type": "text"
      },
      "source": [
        "Pandas kütüphanesini kullanabilmek için .py dosyamıza import ediyoruz"
      ]
    },
    {
      "cell_type": "code",
      "metadata": {
        "id": "h20zLt_iMNF0",
        "colab_type": "code",
        "colab": {}
      },
      "source": [
        "import pandas as pd "
      ],
      "execution_count": 0,
      "outputs": []
    },
    {
      "cell_type": "markdown",
      "metadata": {
        "id": "nmIjg5NuMgKk",
        "colab_type": "text"
      },
      "source": [
        "csv türünde olan veri setimizi link üzerinden Data Frame nesnesi olarak okuyup veriseti_df değişkenine atıyoruz."
      ]
    },
    {
      "cell_type": "code",
      "metadata": {
        "id": "xHFcFurRMgUO",
        "colab_type": "code",
        "colab": {}
      },
      "source": [
        "veriseti_df = pd.read_csv(filepath_or_buffer=\"https://download.mlcc.google.com/mledu-datasets/california_housing_train.csv\")"
      ],
      "execution_count": 0,
      "outputs": []
    },
    {
      "cell_type": "markdown",
      "metadata": {
        "id": "opiEmPPmMgjn",
        "colab_type": "text"
      },
      "source": [
        "Veri setimizdeki korelasyon değerlerini correlations isimli değişkene atadık."
      ]
    },
    {
      "cell_type": "code",
      "metadata": {
        "id": "TZZFYZlaMgsi",
        "colab_type": "code",
        "colab": {
          "base_uri": "https://localhost:8080/",
          "height": 237
        },
        "outputId": "6a922a58-f8d1-44b8-d735-733e390df831"
      },
      "source": [
        "correlations=veriseti_df.corr()\n",
        "print(correlations)"
      ],
      "execution_count": 3,
      "outputs": [
        {
          "output_type": "stream",
          "text": [
            "                    longitude  latitude  ...  median_income  median_house_value\n",
            "longitude            1.000000 -0.925208  ...      -0.015485           -0.044982\n",
            "latitude            -0.925208  1.000000  ...      -0.080303           -0.144917\n",
            "housing_median_age  -0.114250  0.016454  ...      -0.115932            0.106758\n",
            "total_rooms          0.047010 -0.038773  ...       0.195383            0.130991\n",
            "total_bedrooms       0.071802 -0.069373  ...      -0.013495            0.045783\n",
            "population           0.101674 -0.111261  ...      -0.000638           -0.027850\n",
            "households           0.059628 -0.074902  ...       0.007644            0.061031\n",
            "median_income       -0.015485 -0.080303  ...       1.000000            0.691871\n",
            "median_house_value  -0.044982 -0.144917  ...       0.691871            1.000000\n",
            "\n",
            "[9 rows x 9 columns]\n"
          ],
          "name": "stdout"
        }
      ]
    },
    {
      "cell_type": "markdown",
      "metadata": {
        "id": "TFALlWCGMg1r",
        "colab_type": "text"
      },
      "source": [
        "Matplotlib içindeki pyplot nesnesini import ettik"
      ]
    },
    {
      "cell_type": "code",
      "metadata": {
        "id": "VP41reXTMg7X",
        "colab_type": "code",
        "colab": {}
      },
      "source": [
        "import matplotlib.pyplot as plt"
      ],
      "execution_count": 0,
      "outputs": []
    },
    {
      "cell_type": "markdown",
      "metadata": {
        "id": "EcllHRAaMyMF",
        "colab_type": "text"
      },
      "source": [
        "Grafiğimizin x ve y eksenlerinde yazacak açıklama değerini veriyoruz"
      ]
    },
    {
      "cell_type": "code",
      "metadata": {
        "id": "qgZ-GOBIMySu",
        "colab_type": "code",
        "colab": {
          "base_uri": "https://localhost:8080/",
          "height": 301
        },
        "outputId": "19dcb640-6ff0-4f4b-c9fe-7de6ff32e956"
      },
      "source": [
        "plt.xlabel(\"median income\")\n",
        "plt.ylabel(\"median house price\")"
      ],
      "execution_count": 5,
      "outputs": [
        {
          "output_type": "execute_result",
          "data": {
            "text/plain": [
              "Text(0, 0.5, 'median house price')"
            ]
          },
          "metadata": {
            "tags": []
          },
          "execution_count": 5
        },
        {
          "output_type": "display_data",
          "data": {
            "image/png": "[encoded data removed]",
            "text/plain": [
              "<Figure size 432x288 with 1 Axes>"
            ]
          },
          "metadata": {
            "tags": [],
            "needs_background": "light"
          }
        }
      ]
    },
    {
      "cell_type": "markdown",
      "metadata": {
        "id": "FXBOrAnWMyY8",
        "colab_type": "text"
      },
      "source": [
        "Dağılım grafiğimizde veri setimizin ilk 90 satırının dağılımını göstereceğiz. Bu standart değildir size lineerliği daha iyi anlatabilmek için bu sayıyı seçtim modelimiz normal şartlarda eğitim veri setindeki her değeri alır."
      ]
    },
    {
      "cell_type": "code",
      "metadata": {
        "id": "qrksnBxVMye6",
        "colab_type": "code",
        "colab": {}
      },
      "source": [
        "veriseti_df_90 = veriseti_df.sample(n=90)"
      ],
      "execution_count": 0,
      "outputs": []
    },
    {
      "cell_type": "markdown",
      "metadata": {
        "id": "f_C7G7AJMyke",
        "colab_type": "text"
      },
      "source": [
        "Grafiğimizi konsolda gösteriyoruz"
      ]
    },
    {
      "cell_type": "code",
      "metadata": {
        "id": "uN_3g3sTMypS",
        "colab_type": "code",
        "colab": {
          "base_uri": "https://localhost:8080/",
          "height": 265
        },
        "outputId": "ca983d57-706b-4ad2-8f15-e4045b35a972"
      },
      "source": [
        "plt.scatter(veriseti_df_90[\"median_income\"], veriseti_df_90[\"median_house_value\"])\n",
        "plt.show()"
      ],
      "execution_count": 9,
      "outputs": [
        {
          "output_type": "display_data",
          "data": {
            "image/png": "[encoded data removed]",
            "text/plain": [
              "<Figure size 432x288 with 1 Axes>"
            ]
          },
          "metadata": {
            "tags": [],
            "needs_background": "light"
          }
        }
      ]
    },
    {
      "cell_type": "markdown",
      "metadata": {
        "id": "3hMkSLq5MyuW",
        "colab_type": "text"
      },
      "source": [
        "Veri setimizdeki tüm değerlerin dağılımını grafikte gösteriyoruz."
      ]
    },
    {
      "cell_type": "code",
      "metadata": {
        "id": "SltThXJ0MyzN",
        "colab_type": "code",
        "colab": {
          "base_uri": "https://localhost:8080/",
          "height": 265
        },
        "outputId": "84ddecf1-9517-497a-f81c-5640d2065b7f"
      },
      "source": [
        "plt.scatter(veriseti_df[\"median_income\"], veriseti_df[\"median_house_value\"])\n",
        "plt.show()"
      ],
      "execution_count": 10,
      "outputs": [
        {
          "output_type": "display_data",
          "data": {
            "image/png": "[encoded data removed]",
            "text/plain": [
              "<Figure size 432x288 with 1 Axes>"
            ]
          },
          "metadata": {
            "tags": [],
            "needs_background": "light"
          }
        }
      ]
    }
  ]
}