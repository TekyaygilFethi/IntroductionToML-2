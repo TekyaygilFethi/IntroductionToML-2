{
  "nbformat": 4,
  "nbformat_minor": 0,
  "metadata": {
    "colab": {
      "name": "Başarabilirsin: Makine Öğrenmesine Giriş - 2.ipynb",
      "provenance": [],
      "collapsed_sections": [],
      "authorship_tag": "ABX9TyNZbvTzSs15QiqVC0kRrRf6",
      "include_colab_link": true
    },
    "kernelspec": {
      "name": "python3",
      "display_name": "Python 3"
    }
  },
  "cells": [
    {
      "cell_type": "markdown",
      "metadata": {
        "id": "view-in-github",
        "colab_type": "text"
      },
      "source": [
        "<a href=\"https://colab.research.google.com/github/TekyaygilFethi/IntroductionToML-2/blob/master/Ba%C5%9Farabilirsin_Makine_%C3%96%C4%9Frenmesine_Giri%C5%9F_2.ipynb\" target=\"_parent\"><img src=\"https://colab.research.google.com/assets/colab-badge.svg\" alt=\"Open In Colab\"/></a>"
      ]
    },
    {
      "cell_type": "markdown",
      "metadata": {
        "id": "r53Oy7IgMXmP",
        "colab_type": "text"
      },
      "source": [
        "Pandas kütüphanesini kullanabilmek için .py dosyamıza import ediyoruz"
      ]
    },
    {
      "cell_type": "code",
      "metadata": {
        "id": "h20zLt_iMNF0",
        "colab_type": "code",
        "colab": {}
      },
      "source": [
        "import pandas as pd "
      ],
      "execution_count": 0,
      "outputs": []
    },
    {
      "cell_type": "markdown",
      "metadata": {
        "id": "nmIjg5NuMgKk",
        "colab_type": "text"
      },
      "source": [
        "csv türünde olan veri setimizi link üzerinden Data Frame nesnesi olarak okuyup veriseti_df değişkenine atıyoruz."
      ]
    },
    {
      "cell_type": "code",
      "metadata": {
        "id": "xHFcFurRMgUO",
        "colab_type": "code",
        "colab": {}
      },
      "source": [
        "veriseti_df = pd.read_csv(filepath_or_buffer=\"https://download.mlcc.google.com/mledu-datasets/california_housing_train.csv\")"
      ],
      "execution_count": 0,
      "outputs": []
    },
    {
      "cell_type": "markdown",
      "metadata": {
        "id": "opiEmPPmMgjn",
        "colab_type": "text"
      },
      "source": [
        "Veri setimizdeki korelasyon değerlerini correlations isimli değişkene atadık."
      ]
    },
    {
      "cell_type": "code",
      "metadata": {
        "id": "TZZFYZlaMgsi",
        "colab_type": "code",
        "colab": {}
      },
      "source": [
        "correlations=veriseti_df.corr()\n",
        "print(correlations)"
      ],
      "execution_count": 0,
      "outputs": []
    },
    {
      "cell_type": "markdown",
      "metadata": {
        "id": "TFALlWCGMg1r",
        "colab_type": "text"
      },
      "source": [
        "Matplotlib içindeki pyplot nesnesini import ettik"
      ]
    },
    {
      "cell_type": "code",
      "metadata": {
        "id": "VP41reXTMg7X",
        "colab_type": "code",
        "colab": {}
      },
      "source": [
        "import matplotlib.pyplot as plt"
      ],
      "execution_count": 0,
      "outputs": []
    },
    {
      "cell_type": "markdown",
      "metadata": {
        "id": "EcllHRAaMyMF",
        "colab_type": "text"
      },
      "source": [
        "Grafiğimizin x ve y eksenlerinde yazacak açıklama değerini veriyoruz"
      ]
    },
    {
      "cell_type": "code",
      "metadata": {
        "id": "qgZ-GOBIMySu",
        "colab_type": "code",
        "colab": {}
      },
      "source": [
        "plt.xlabel(\"median income\")\n",
        "plt.ylabel(\"median house price\")"
      ],
      "execution_count": 0,
      "outputs": []
    },
    {
      "cell_type": "markdown",
      "metadata": {
        "id": "FXBOrAnWMyY8",
        "colab_type": "text"
      },
      "source": [
        "Dağılım grafiğimizde veri setimizin ilk 90 satırının dağılımını göstereceğiz. Bu standart değildir size lineerliği daha iyi anlatabilmek için bu sayıyı seçtim modelimiz normal şartlarda eğitim veri setindeki her değeri alır."
      ]
    },
    {
      "cell_type": "code",
      "metadata": {
        "id": "qrksnBxVMye6",
        "colab_type": "code",
        "colab": {}
      },
      "source": [
        "veriseti_df_90 = veriseti_df.sample(n=90)"
      ],
      "execution_count": 0,
      "outputs": []
    },
    {
      "cell_type": "markdown",
      "metadata": {
        "id": "f_C7G7AJMyke",
        "colab_type": "text"
      },
      "source": [
        "Grafiğimizi konsolda gösteriyoruz"
      ]
    },
    {
      "cell_type": "code",
      "metadata": {
        "id": "uN_3g3sTMypS",
        "colab_type": "code",
        "colab": {}
      },
      "source": [
        "plt.scatter(veriseti_df_90[\"median_income\"], veriseti_df_90[\"median_house_value\"])\n",
        "plt.show()"
      ],
      "execution_count": 0,
      "outputs": []
    },
    {
      "cell_type": "markdown",
      "metadata": {
        "id": "3hMkSLq5MyuW",
        "colab_type": "text"
      },
      "source": [
        "Veri setimizdeki tüm değerlerin dağılımını grafikte gösteriyoruz."
      ]
    },
    {
      "cell_type": "code",
      "metadata": {
        "id": "SltThXJ0MyzN",
        "colab_type": "code",
        "colab": {}
      },
      "source": [
        "plt.scatter(veriseti_df[\"median_income\"], veriseti_df[\"median_house_value\"])\n",
        "plt.show()"
      ],
      "execution_count": 0,
      "outputs": []
    }
  ]
}